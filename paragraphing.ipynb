{
  "nbformat": 4,
  "nbformat_minor": 0,
  "metadata": {
    "colab": {
      "provenance": []
    },
    "kernelspec": {
      "name": "python3",
      "display_name": "Python 3"
    },
    "language_info": {
      "name": "python"
    }
  },
  "cells": [
    {
      "cell_type": "code",
      "execution_count": null,
      "metadata": {
        "id": "8X_lxKIgwuHs"
      },
      "outputs": [],
      "source": [
        "!pip install -q -U google-generativeai"
      ]
    },
    {
      "cell_type": "markdown",
      "source": [
        "You'll have to get the gemini api key here:\n",
        "\n",
        "[Get an API key](https://aistudio.google.com/app/apikey)\n",
        "\n",
        "In Colab, add the key to the secrets manager under the \"🔑\" in the left panel. Give it the name gemini."
      ],
      "metadata": {
        "id": "FW9CO-qzxKUl"
      }
    },
    {
      "cell_type": "code",
      "source": [
        "# Import the Python SDK\n",
        "import google.generativeai as genai\n",
        "# Used to securely store your API key\n",
        "from google.colab import userdata\n",
        "\n",
        "GOOGLE_API_KEY=userdata.get('gemini')\n",
        "genai.configure(api_key=GOOGLE_API_KEY)"
      ],
      "metadata": {
        "id": "FGNZ9LcAw2cl"
      },
      "execution_count": null,
      "outputs": []
    },
    {
      "cell_type": "code",
      "source": [
        "model = genai.GenerativeModel('gemini-pro')"
      ],
      "metadata": {
        "id": "YOEUlAo2w5l-"
      },
      "execution_count": null,
      "outputs": []
    },
    {
      "cell_type": "code",
      "source": [
        "raw_text = \"\"\"如果您是圣何塞的房主, 正在考虑在您的房产上增加一个附属住宅单元(ADU),第一步也是最关键的一步就是了解您的特定房产的指定用途和特征。这可能不是整个过程中最令人兴奋的部分,但它对确保您的ADU计划能够获得批准并顺利建造而不会遇到任何障碍至关重要。幸运的是，圣何塞市设有专门的\"ADU盟友\"来指导您完成这一初始步骤。这些专家在市政府的开发服务许可中心工作，拥有丰富的协助房主经验。跳过这个关键的第一步导致许多客户不得不重新设计他们的ADU计划。然而，在ADU通用清单和本指南的帮助下，您可以收集所有必要的房产信息，正确地开始您的项目。\n",
        "\"\"\""
      ],
      "metadata": {
        "id": "6pkrlOniw7OU"
      },
      "execution_count": null,
      "outputs": []
    },
    {
      "cell_type": "code",
      "source": [
        "response = model.generate_content(f\"seperate the following text into paragraphs without changing the words:\\n\\n{raw_text}\")\n",
        "print(response.text)"
      ],
      "metadata": {
        "id": "3rVgeylxw8rf"
      },
      "execution_count": null,
      "outputs": []
    }
  ]
}